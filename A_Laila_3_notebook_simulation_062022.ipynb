{
 "cells": [
  {
   "cell_type": "markdown",
   "id": "a8d513bc",
   "metadata": {},
   "source": [
    "# <font color=\"#8333ff\">Projet 5 (PARTIE 3): Segmentez des clients d'un site e-commerce"
   ]
  },
  {
   "cell_type": "markdown",
   "id": "5c0f050e",
   "metadata": {},
   "source": [
    "# <font color=\"#8333ff\">Simulation pour déterminer la fréquence nécessaire de mise à jour du modèle de segmentation."
   ]
  },
  {
   "cell_type": "markdown",
   "id": "06158357",
   "metadata": {},
   "source": [
    "Une fois le modèle de segmentation choisi, nous devons faire une recommandation de fréquence à laquelle la segmentation doit être mise à jour pour rester pertinente, afin de pouvoir effectuer un devis de contrat de maintenance."
   ]
  },
  {
   "cell_type": "markdown",
   "id": "81161349",
   "metadata": {},
   "source": [
    "Ainsi, nous devons tester sa stabilité dans le temps et voir, par exemple, à quel moment les clients changent de Cluster."
   ]
  },
  {
   "cell_type": "markdown",
   "id": "5759a64a",
   "metadata": {},
   "source": [
    "# <font color=\"#8333ff\"> Partie 3: Simulation </font>"
   ]
  },
  {
   "cell_type": "markdown",
   "id": "5890feff",
   "metadata": {},
   "source": [
    "## <font color=\"blue\">Sommaire</font>\n",
    "\n",
    "1. [Import de la dataframe](#section_1)        \n",
    "2. [Stabilité temporelle de la segmentation](#section_2) </br>\n",
    "    a.[Période totale à couvrir](#section_2_a)</br>\n",
    "    b.[Iteration du K-means avec des deltas](#section_2_b)</br>\n",
    "    c.[Score ARI](#section_2_b)</br>"
   ]
  },
  {
   "cell_type": "markdown",
   "id": "39734fab",
   "metadata": {},
   "source": [
    "On importe les librairies nécessaires pour ces analyses ainsi que la base cleanée.\n"
   ]
  },
  {
   "cell_type": "code",
   "execution_count": 1,
   "id": "92303c88",
   "metadata": {},
   "outputs": [],
   "source": [
    "#import des librairies dont nous aurons besoin\n",
    "import numpy as np\n",
    "import pandas as pd\n",
    "import matplotlib.pyplot as plt\n",
    "import seaborn as sns\n",
    "%matplotlib inline"
   ]
  },
  {
   "cell_type": "markdown",
   "id": "591c3c4c",
   "metadata": {},
   "source": [
    "## <font color=\"red\" id=\"section_1\">1. Import de la dataframe </font>"
   ]
  },
  {
   "cell_type": "code",
   "execution_count": 67,
   "id": "ec5ac67c",
   "metadata": {},
   "outputs": [],
   "source": [
    "#import du ficher csv prêt pour la modélisation 'data_clustering.csv' et chargement en une dataframe \"data_clustering\"\n",
    "data_clustering = pd.read_csv('data_clustering.csv')\n"
   ]
  },
  {
   "cell_type": "markdown",
   "id": "1c8e810b",
   "metadata": {},
   "source": [
    "## <font color=\"red\" id=\"section_2\">2. Délai de maintenance du modèle choisi </font>"
   ]
  },
  {
   "cell_type": "markdown",
   "id": "35d76922",
   "metadata": {},
   "source": [
    "### <font color=\"blue\" id=\"section_8_a\"> a. Période concernée </font>"
   ]
  },
  {
   "cell_type": "code",
   "execution_count": 3,
   "id": "d56a02ca",
   "metadata": {},
   "outputs": [
    {
     "name": "stdout",
     "output_type": "stream",
     "text": [
      "La période complète des commandes est de 23 mois.\n"
     ]
    }
   ],
   "source": [
    "#Calcul de la période totale en mois\n",
    "#1 mois fait 30.417 jours en moyenne\n",
    "time_total = int((data_clustering[\"recency\"].max() - data_clustering[\"recency\"].min())/30.471)\n",
    "\n",
    "print(\"La période complète des commandes est de {} mois.\".format(time_total))"
   ]
  },
  {
   "cell_type": "code",
   "execution_count": 49,
   "id": "08b5a8cd",
   "metadata": {},
   "outputs": [
    {
     "name": "stdout",
     "output_type": "stream",
     "text": [
      "Le nombre de clients est de : 93396 \n"
     ]
    }
   ],
   "source": [
    "nb_clients = data_clustering.customer_unique_id.unique().shape[0]\n",
    "print(\"Le nombre de clients est de : {} \".format(nb_clients))"
   ]
  },
  {
   "cell_type": "markdown",
   "id": "2ee221a2",
   "metadata": {},
   "source": [
    "Regardons la répartition des clients selon le temps. "
   ]
  },
  {
   "cell_type": "code",
   "execution_count": 68,
   "id": "edb63939",
   "metadata": {},
   "outputs": [
    {
     "data": {
      "text/html": [
       "<div>\n",
       "<style scoped>\n",
       "    .dataframe tbody tr th:only-of-type {\n",
       "        vertical-align: middle;\n",
       "    }\n",
       "\n",
       "    .dataframe tbody tr th {\n",
       "        vertical-align: top;\n",
       "    }\n",
       "\n",
       "    .dataframe thead th {\n",
       "        text-align: right;\n",
       "    }\n",
       "</style>\n",
       "<table border=\"1\" class=\"dataframe\">\n",
       "  <thead>\n",
       "    <tr style=\"text-align: right;\">\n",
       "      <th></th>\n",
       "      <th>Unnamed: 0</th>\n",
       "      <th>customer_unique_id</th>\n",
       "      <th>recency</th>\n",
       "      <th>frequency</th>\n",
       "      <th>monetary</th>\n",
       "      <th>customer_id</th>\n",
       "      <th>customer_city</th>\n",
       "      <th>customer_state</th>\n",
       "      <th>order_id</th>\n",
       "      <th>order_status</th>\n",
       "      <th>...</th>\n",
       "      <th>payment_sequential</th>\n",
       "      <th>payment_type</th>\n",
       "      <th>payment_installments</th>\n",
       "      <th>payment_value</th>\n",
       "      <th>shipping_limit_date</th>\n",
       "      <th>product_id</th>\n",
       "      <th>price</th>\n",
       "      <th>freight_value</th>\n",
       "      <th>product_category_name_english</th>\n",
       "      <th>order_time_delivered</th>\n",
       "    </tr>\n",
       "  </thead>\n",
       "  <tbody>\n",
       "    <tr>\n",
       "      <th>0</th>\n",
       "      <td>0</td>\n",
       "      <td>0000366f3b9a7992bf8c76cfdf3221e2</td>\n",
       "      <td>116</td>\n",
       "      <td>1</td>\n",
       "      <td>129.90</td>\n",
       "      <td>fadbb3709178fc513abc1b2670aa1ad2</td>\n",
       "      <td>cajamar</td>\n",
       "      <td>SP</td>\n",
       "      <td>e22acc9c116caa3f2b7121bbb380d08e</td>\n",
       "      <td>delivered</td>\n",
       "      <td>...</td>\n",
       "      <td>1</td>\n",
       "      <td>credit_card</td>\n",
       "      <td>8</td>\n",
       "      <td>141.90</td>\n",
       "      <td>2018-05-15 11:11:18</td>\n",
       "      <td>372645c7439f9661fbbacfd129aa92ec</td>\n",
       "      <td>129.90</td>\n",
       "      <td>12.00</td>\n",
       "      <td>home</td>\n",
       "      <td>4.0</td>\n",
       "    </tr>\n",
       "    <tr>\n",
       "      <th>1</th>\n",
       "      <td>1</td>\n",
       "      <td>0000b849f77a49e4a4ce2b2a4ca5be3f</td>\n",
       "      <td>119</td>\n",
       "      <td>1</td>\n",
       "      <td>18.90</td>\n",
       "      <td>4cb282e167ae9234755102258dd52ee8</td>\n",
       "      <td>osasco</td>\n",
       "      <td>SP</td>\n",
       "      <td>3594e05a005ac4d06a72673270ef9ec9</td>\n",
       "      <td>delivered</td>\n",
       "      <td>...</td>\n",
       "      <td>1</td>\n",
       "      <td>credit_card</td>\n",
       "      <td>1</td>\n",
       "      <td>27.19</td>\n",
       "      <td>2018-05-11 17:56:33</td>\n",
       "      <td>5099f7000472b634fea8304448d20825</td>\n",
       "      <td>18.90</td>\n",
       "      <td>8.29</td>\n",
       "      <td>health_beauty</td>\n",
       "      <td>4.0</td>\n",
       "    </tr>\n",
       "    <tr>\n",
       "      <th>2</th>\n",
       "      <td>2</td>\n",
       "      <td>0000f46a3911fa3c0805444483337064</td>\n",
       "      <td>542</td>\n",
       "      <td>1</td>\n",
       "      <td>69.00</td>\n",
       "      <td>9b3932a6253894a02c1df9d19004239f</td>\n",
       "      <td>sao jose</td>\n",
       "      <td>SC</td>\n",
       "      <td>b33ec3b699337181488304f362a6b734</td>\n",
       "      <td>delivered</td>\n",
       "      <td>...</td>\n",
       "      <td>1</td>\n",
       "      <td>credit_card</td>\n",
       "      <td>8</td>\n",
       "      <td>86.22</td>\n",
       "      <td>2017-03-15 21:05:03</td>\n",
       "      <td>64b488de448a5324c4134ea39c28a34b</td>\n",
       "      <td>69.00</td>\n",
       "      <td>17.22</td>\n",
       "      <td>office_stationery_books</td>\n",
       "      <td>1.0</td>\n",
       "    </tr>\n",
       "    <tr>\n",
       "      <th>3</th>\n",
       "      <td>3</td>\n",
       "      <td>0000f6ccb0745a6a4b88665a16c9f078</td>\n",
       "      <td>326</td>\n",
       "      <td>1</td>\n",
       "      <td>25.99</td>\n",
       "      <td>914991f0c02ef0843c0e7010c819d642</td>\n",
       "      <td>belem</td>\n",
       "      <td>PA</td>\n",
       "      <td>41272756ecddd9a9ed0180413cc22fb6</td>\n",
       "      <td>delivered</td>\n",
       "      <td>...</td>\n",
       "      <td>1</td>\n",
       "      <td>credit_card</td>\n",
       "      <td>4</td>\n",
       "      <td>43.62</td>\n",
       "      <td>2017-10-18 21:49:17</td>\n",
       "      <td>2345a354a6f2033609bbf62bf5be9ef6</td>\n",
       "      <td>25.99</td>\n",
       "      <td>17.63</td>\n",
       "      <td>technology</td>\n",
       "      <td>11.0</td>\n",
       "    </tr>\n",
       "    <tr>\n",
       "      <th>4</th>\n",
       "      <td>4</td>\n",
       "      <td>0004aac84e0df4da2b147fca70cf8255</td>\n",
       "      <td>293</td>\n",
       "      <td>1</td>\n",
       "      <td>180.00</td>\n",
       "      <td>47227568b10f5f58a524a75507e6992c</td>\n",
       "      <td>sorocaba</td>\n",
       "      <td>SP</td>\n",
       "      <td>d957021f1127559cd947b62533f484f7</td>\n",
       "      <td>delivered</td>\n",
       "      <td>...</td>\n",
       "      <td>1</td>\n",
       "      <td>credit_card</td>\n",
       "      <td>6</td>\n",
       "      <td>196.89</td>\n",
       "      <td>2017-11-22 20:06:52</td>\n",
       "      <td>c72e18b3fe2739b8d24ebf3102450f37</td>\n",
       "      <td>180.00</td>\n",
       "      <td>16.89</td>\n",
       "      <td>technology</td>\n",
       "      <td>7.0</td>\n",
       "    </tr>\n",
       "  </tbody>\n",
       "</table>\n",
       "<p>5 rows × 27 columns</p>\n",
       "</div>"
      ],
      "text/plain": [
       "   Unnamed: 0                customer_unique_id  recency  frequency  monetary  \\\n",
       "0           0  0000366f3b9a7992bf8c76cfdf3221e2      116          1    129.90   \n",
       "1           1  0000b849f77a49e4a4ce2b2a4ca5be3f      119          1     18.90   \n",
       "2           2  0000f46a3911fa3c0805444483337064      542          1     69.00   \n",
       "3           3  0000f6ccb0745a6a4b88665a16c9f078      326          1     25.99   \n",
       "4           4  0004aac84e0df4da2b147fca70cf8255      293          1    180.00   \n",
       "\n",
       "                        customer_id customer_city customer_state  \\\n",
       "0  fadbb3709178fc513abc1b2670aa1ad2       cajamar             SP   \n",
       "1  4cb282e167ae9234755102258dd52ee8        osasco             SP   \n",
       "2  9b3932a6253894a02c1df9d19004239f      sao jose             SC   \n",
       "3  914991f0c02ef0843c0e7010c819d642         belem             PA   \n",
       "4  47227568b10f5f58a524a75507e6992c      sorocaba             SP   \n",
       "\n",
       "                           order_id order_status  ... payment_sequential  \\\n",
       "0  e22acc9c116caa3f2b7121bbb380d08e    delivered  ...                  1   \n",
       "1  3594e05a005ac4d06a72673270ef9ec9    delivered  ...                  1   \n",
       "2  b33ec3b699337181488304f362a6b734    delivered  ...                  1   \n",
       "3  41272756ecddd9a9ed0180413cc22fb6    delivered  ...                  1   \n",
       "4  d957021f1127559cd947b62533f484f7    delivered  ...                  1   \n",
       "\n",
       "  payment_type payment_installments payment_value  shipping_limit_date  \\\n",
       "0  credit_card                    8        141.90  2018-05-15 11:11:18   \n",
       "1  credit_card                    1         27.19  2018-05-11 17:56:33   \n",
       "2  credit_card                    8         86.22  2017-03-15 21:05:03   \n",
       "3  credit_card                    4         43.62  2017-10-18 21:49:17   \n",
       "4  credit_card                    6        196.89  2017-11-22 20:06:52   \n",
       "\n",
       "                         product_id   price  freight_value  \\\n",
       "0  372645c7439f9661fbbacfd129aa92ec  129.90          12.00   \n",
       "1  5099f7000472b634fea8304448d20825   18.90           8.29   \n",
       "2  64b488de448a5324c4134ea39c28a34b   69.00          17.22   \n",
       "3  2345a354a6f2033609bbf62bf5be9ef6   25.99          17.63   \n",
       "4  c72e18b3fe2739b8d24ebf3102450f37  180.00          16.89   \n",
       "\n",
       "  product_category_name_english  order_time_delivered  \n",
       "0                          home                   4.0  \n",
       "1                 health_beauty                   4.0  \n",
       "2       office_stationery_books                   1.0  \n",
       "3                    technology                  11.0  \n",
       "4                    technology                   7.0  \n",
       "\n",
       "[5 rows x 27 columns]"
      ]
     },
     "execution_count": 68,
     "metadata": {},
     "output_type": "execute_result"
    }
   ],
   "source": [
    "data_clustering.head()"
   ]
  },
  {
   "cell_type": "code",
   "execution_count": 4,
   "id": "9fec2842",
   "metadata": {},
   "outputs": [
    {
     "data": {
      "text/plain": [
       "'2016-09-04 21:15:19'"
      ]
     },
     "execution_count": 4,
     "metadata": {},
     "output_type": "execute_result"
    }
   ],
   "source": [
    "data_clustering['order_purchase_timestamp'].min()"
   ]
  },
  {
   "cell_type": "code",
   "execution_count": 5,
   "id": "3ad573c2",
   "metadata": {},
   "outputs": [
    {
     "data": {
      "text/plain": [
       "'2018-09-03 09:06:57'"
      ]
     },
     "execution_count": 5,
     "metadata": {},
     "output_type": "execute_result"
    }
   ],
   "source": [
    "data_clustering['order_purchase_timestamp'].max()"
   ]
  },
  {
   "cell_type": "markdown",
   "id": "e8d093ec",
   "metadata": {},
   "source": [
    "La période des commandes va de début septembre 2016 à début Septembre 2018."
   ]
  },
  {
   "cell_type": "markdown",
   "id": "180acf1a",
   "metadata": {},
   "source": [
    "### <font color=\"blue\" id=\"section_8_b\"> b. Iteration du K-means et calcul du score ARI </font>"
   ]
  },
  {
   "cell_type": "markdown",
   "id": "527b50c0",
   "metadata": {},
   "source": [
    "Déterminons d'abord le nombre de jours écoulé à partir de la variable \"recency\"."
   ]
  },
  {
   "cell_type": "code",
   "execution_count": 6,
   "id": "ffe6998c",
   "metadata": {},
   "outputs": [
    {
     "name": "stdout",
     "output_type": "stream",
     "text": [
      "La date d'achat la plus récente 2018-09-03 correspond à un nombre de jours écoulé = 0 jours et la date d'achat la plus ancienne 2016-09-04 correspond à un nombre de jours écoulé = 729 jours.\n"
     ]
    }
   ],
   "source": [
    "print(\"La date d'achat la plus récente 2018-09-03 correspond à un nombre de jours écoulé = {} jours et la date d'achat la plus ancienne 2016-09-04 correspond à un nombre de jours écoulé = {} jours.\".format(data_clustering.recency.min(),data_clustering.recency.max()))"
   ]
  },
  {
   "cell_type": "markdown",
   "id": "9559d517",
   "metadata": {},
   "source": [
    "Lançons le Kmeans sur notre sélection de variables en choisissant 4 clusters."
   ]
  },
  {
   "cell_type": "code",
   "execution_count": 7,
   "id": "56773699",
   "metadata": {},
   "outputs": [],
   "source": [
    "var=['recency', 'frequency', 'monetary']\n",
    "X = data_clustering[var]"
   ]
  },
  {
   "cell_type": "code",
   "execution_count": 8,
   "id": "39ade780",
   "metadata": {},
   "outputs": [],
   "source": [
    "from sklearn.preprocessing import StandardScaler"
   ]
  },
  {
   "cell_type": "markdown",
   "id": "e25a1a4d",
   "metadata": {},
   "source": [
    "Je vais créer un premier fichier initial de clients sans les derniers 70 jours:"
   ]
  },
  {
   "cell_type": "code",
   "execution_count": 9,
   "id": "18318b6d",
   "metadata": {},
   "outputs": [],
   "source": [
    "from sklearn.cluster import KMeans\n",
    "from sklearn import cluster\n",
    "\n",
    "#On filtre sans les 70 derniers jours\n",
    "F0 = X[X['recency']>=70]\n",
    "#On doit standardiser les données\n",
    "sc_F0=StandardScaler()\n",
    "F0_scaled=sc_F0.fit_transform(F0)\n",
    "\n",
    "\n",
    "# Clustering avec le KMeans en utilisante le meilleur nombre de clusters\n",
    "model = KMeans(n_clusters=4, random_state=0) \n",
    "model_F0 = model.fit(F0_scaled)"
   ]
  },
  {
   "cell_type": "markdown",
   "id": "04bfd58b",
   "metadata": {},
   "source": [
    "Créons maintenant un fichier F1 dans lequel nous retrouverons les clients qui ont achetés dans les 10 jours suivants:\n"
   ]
  },
  {
   "cell_type": "code",
   "execution_count": 10,
   "id": "dbafb82f",
   "metadata": {},
   "outputs": [],
   "source": [
    "#On filtre sans les 70 derniers jours et les 10 jours d'avant\n",
    "F1 = X[X['recency']>=60]\n",
    "#On doit standardiser les données\n",
    "sc_F1=StandardScaler()\n",
    "F1_scaled=sc_F1.fit_transform(F1)\n",
    "\n",
    "model = KMeans(n_clusters=4,  random_state=0) \n",
    "model_F1 = model.fit(F1_scaled)\n",
    "\n",
    "# Le clustering de F1 est prédit en utilisant le modèle F0  \n",
    "F1_pred = model_F0.predict(sc_F0.transform(F1)) "
   ]
  },
  {
   "cell_type": "markdown",
   "id": "f4945d6c",
   "metadata": {},
   "source": [
    "Le score ARI nous permet de voir s'il existe une similarité entre les clusters prédits et vrais.\n",
    "Un score proche de 0 est donné pour un étiquetage aléatoire et 1 lorsque les clusterings sont identiques."
   ]
  },
  {
   "cell_type": "code",
   "execution_count": 11,
   "id": "349338f9",
   "metadata": {},
   "outputs": [
    {
     "data": {
      "text/plain": [
       "0.9843929567555147"
      ]
     },
     "execution_count": 11,
     "metadata": {},
     "output_type": "execute_result"
    }
   ],
   "source": [
    "from sklearn.metrics.cluster import adjusted_rand_score\n",
    "\n",
    "rand_0 = adjusted_rand_score(model_F1.labels_, F1_pred)\n",
    "# Le score ARI calcule la similarité entre les clusters prédits et les vrais clusters apres 10 jours\n",
    "rand_0 "
   ]
  },
  {
   "cell_type": "markdown",
   "id": "64e0430b",
   "metadata": {},
   "source": [
    "Créons un fichier F2 en y mettant les clients qui ont achetés dans les 10 jours suivants:\n"
   ]
  },
  {
   "cell_type": "code",
   "execution_count": 12,
   "id": "5256653e",
   "metadata": {},
   "outputs": [],
   "source": [
    "F2 = X[X['recency']>=50]\n",
    "sc_F2=StandardScaler()\n",
    "F2_scaled=sc_F2.fit_transform(F2)\n",
    "\n",
    "model = KMeans(n_clusters=4, random_state=0) \n",
    "model_F2 = model.fit(F2_scaled)\n",
    "\n",
    "F2_pred = model_F0.predict(sc_F0.transform(F2))"
   ]
  },
  {
   "cell_type": "code",
   "execution_count": 13,
   "id": "bb9ec7c2",
   "metadata": {},
   "outputs": [
    {
     "data": {
      "text/plain": [
       "0.9671474878816277"
      ]
     },
     "execution_count": 13,
     "metadata": {},
     "output_type": "execute_result"
    }
   ],
   "source": [
    "# Le score ARI calcule la similarité entre les clusters prédits et les vrais clusters apres 20 jours\n",
    "rand_1 = adjusted_rand_score(model_F2.labels_, F2_pred)\n",
    "\n",
    "rand_1 "
   ]
  },
  {
   "cell_type": "markdown",
   "id": "4b728b78",
   "metadata": {},
   "source": [
    "Nous allons créer un nouveau groupe F3 en incluant les clients qui ont achetés dans les 10 jours suivants :"
   ]
  },
  {
   "cell_type": "code",
   "execution_count": 14,
   "id": "50153672",
   "metadata": {},
   "outputs": [],
   "source": [
    "F3 = X[X['recency']>=40]\n",
    "sc_F3=StandardScaler()\n",
    "F3_scaled=sc_F3.fit_transform(F3)\n",
    "\n",
    "model = KMeans(n_clusters=4, random_state=0) \n",
    "model_F3 = model.fit(F3_scaled)\n",
    "\n",
    "F3_pred = model_F0.predict(sc_F0.transform(F3))"
   ]
  },
  {
   "cell_type": "code",
   "execution_count": 15,
   "id": "319eae2b",
   "metadata": {},
   "outputs": [
    {
     "data": {
      "text/plain": [
       "0.9417470361854026"
      ]
     },
     "execution_count": 15,
     "metadata": {},
     "output_type": "execute_result"
    }
   ],
   "source": [
    " # Le score ARI calcule la similarité entre les clusters prédits et les vrais clusters apres 30 jours \n",
    "rand_2 = adjusted_rand_score(model_F3.labels_, F3_pred)\n",
    "\n",
    "rand_2"
   ]
  },
  {
   "cell_type": "markdown",
   "id": "b5bd409d",
   "metadata": {},
   "source": [
    "Continuons à faire des simulations en augmentant de 10 jours à chaque fois."
   ]
  },
  {
   "cell_type": "code",
   "execution_count": 16,
   "id": "506a396a",
   "metadata": {},
   "outputs": [],
   "source": [
    "F4 = X[X['recency']>=30]\n",
    "sc_F4=StandardScaler()\n",
    "F4_scaled=sc_F4.fit_transform(F4)\n",
    "\n",
    "model = KMeans(n_clusters=4, random_state=0) \n",
    "model_F4 = model.fit(F4_scaled)\n",
    "\n",
    "F4_pred = model_F0.predict(sc_F0.transform(F4))"
   ]
  },
  {
   "cell_type": "code",
   "execution_count": 17,
   "id": "93e93fb0",
   "metadata": {},
   "outputs": [
    {
     "data": {
      "text/plain": [
       "0.9112373075402385"
      ]
     },
     "execution_count": 17,
     "metadata": {},
     "output_type": "execute_result"
    }
   ],
   "source": [
    " # Le score ARI calcule la similarité entre les clusters prédits et les vrais clusters apres 40 jours \n",
    "rand_3 = adjusted_rand_score(model_F4.labels_, F4_pred)\n",
    "rand_3 "
   ]
  },
  {
   "cell_type": "code",
   "execution_count": 18,
   "id": "5c29c777",
   "metadata": {},
   "outputs": [],
   "source": [
    "F5 = X[X['recency']>=20]\n",
    "sc_F5=StandardScaler()\n",
    "F5_scaled=sc_F5.fit_transform(F5)\n",
    "\n",
    "model = KMeans(n_clusters=4, random_state=0) \n",
    "model_F5 = model.fit(F5_scaled)\n",
    "\n",
    "F5_pred = model_F0.predict(sc_F0.transform(F5))"
   ]
  },
  {
   "cell_type": "code",
   "execution_count": 19,
   "id": "7f2c95ab",
   "metadata": {
    "scrolled": false
   },
   "outputs": [
    {
     "data": {
      "text/plain": [
       "0.6743062700072663"
      ]
     },
     "execution_count": 19,
     "metadata": {},
     "output_type": "execute_result"
    }
   ],
   "source": [
    " # Le score ARI calcule la similarité entre les clusters prédits et les vrais clusters apres 50 jours\n",
    "rand_4 = adjusted_rand_score(model_F5.labels_, F5_pred)\n",
    "rand_4"
   ]
  },
  {
   "cell_type": "code",
   "execution_count": 20,
   "id": "375dccf1",
   "metadata": {},
   "outputs": [],
   "source": [
    "F6 = X[X['recency']>=10]\n",
    "sc_F6=StandardScaler()\n",
    "F6_scaled=sc_F6.fit_transform(F6)\n",
    "\n",
    "model = KMeans(n_clusters=4, random_state=0) \n",
    "model_F6 = model.fit(F6_scaled)\n",
    "\n",
    "F6_pred = model_F0.predict(sc_F0.transform(F6))"
   ]
  },
  {
   "cell_type": "code",
   "execution_count": 21,
   "id": "a018c26b",
   "metadata": {},
   "outputs": [
    {
     "data": {
      "text/plain": [
       "0.6593599585129973"
      ]
     },
     "execution_count": 21,
     "metadata": {},
     "output_type": "execute_result"
    }
   ],
   "source": [
    " # Le score ARI calcule la similarité entre les clusters prédits et les vrais clusters apres 60 jours\n",
    "rand_5 = adjusted_rand_score(model_F6.labels_, F6_pred)\n",
    "rand_5"
   ]
  },
  {
   "cell_type": "code",
   "execution_count": 63,
   "id": "0bf75fa1",
   "metadata": {},
   "outputs": [],
   "source": [
    "F7 = X[X['recency']>=0]\n",
    "sc_F7=StandardScaler()\n",
    "F7_scaled=sc_F7.fit_transform(F7)\n",
    "\n",
    "model = KMeans(n_clusters=4, random_state=0) \n",
    "model_F7 = model.fit(F7_scaled)\n",
    "\n",
    "F7_pred = model_F0.predict(sc_F0.transform(F7))"
   ]
  },
  {
   "cell_type": "code",
   "execution_count": 64,
   "id": "7de15141",
   "metadata": {},
   "outputs": [
    {
     "data": {
      "text/plain": [
       "0.6492059471268726"
      ]
     },
     "execution_count": 64,
     "metadata": {},
     "output_type": "execute_result"
    }
   ],
   "source": [
    " # Le score ARI calcule la similarité entre les clusters prédits et les vrais clusters apres 70 jours\n",
    "rand_6 = adjusted_rand_score(model_F7.labels_, F7_pred)\n",
    "rand_6"
   ]
  },
  {
   "cell_type": "code",
   "execution_count": 65,
   "id": "9c11b3c7",
   "metadata": {},
   "outputs": [
    {
     "data": {
      "text/html": [
       "<div>\n",
       "<style scoped>\n",
       "    .dataframe tbody tr th:only-of-type {\n",
       "        vertical-align: middle;\n",
       "    }\n",
       "\n",
       "    .dataframe tbody tr th {\n",
       "        vertical-align: top;\n",
       "    }\n",
       "\n",
       "    .dataframe thead th {\n",
       "        text-align: right;\n",
       "    }\n",
       "</style>\n",
       "<table border=\"1\" class=\"dataframe\">\n",
       "  <thead>\n",
       "    <tr style=\"text-align: right;\">\n",
       "      <th></th>\n",
       "      <th>Temps (jours)</th>\n",
       "      <th>Score ARI</th>\n",
       "    </tr>\n",
       "  </thead>\n",
       "  <tbody>\n",
       "    <tr>\n",
       "      <th>0</th>\n",
       "      <td>10</td>\n",
       "      <td>0.984393</td>\n",
       "    </tr>\n",
       "    <tr>\n",
       "      <th>1</th>\n",
       "      <td>20</td>\n",
       "      <td>0.967147</td>\n",
       "    </tr>\n",
       "    <tr>\n",
       "      <th>2</th>\n",
       "      <td>30</td>\n",
       "      <td>0.941747</td>\n",
       "    </tr>\n",
       "    <tr>\n",
       "      <th>3</th>\n",
       "      <td>40</td>\n",
       "      <td>0.911237</td>\n",
       "    </tr>\n",
       "    <tr>\n",
       "      <th>4</th>\n",
       "      <td>50</td>\n",
       "      <td>0.674306</td>\n",
       "    </tr>\n",
       "    <tr>\n",
       "      <th>5</th>\n",
       "      <td>60</td>\n",
       "      <td>0.659360</td>\n",
       "    </tr>\n",
       "    <tr>\n",
       "      <th>6</th>\n",
       "      <td>70</td>\n",
       "      <td>0.649206</td>\n",
       "    </tr>\n",
       "  </tbody>\n",
       "</table>\n",
       "</div>"
      ],
      "text/plain": [
       "  Temps (jours)  Score ARI\n",
       "0            10   0.984393\n",
       "1            20   0.967147\n",
       "2            30   0.941747\n",
       "3            40   0.911237\n",
       "4            50   0.674306\n",
       "5            60   0.659360\n",
       "6            70   0.649206"
      ]
     },
     "execution_count": 65,
     "metadata": {},
     "output_type": "execute_result"
    }
   ],
   "source": [
    "rand = ({\"10\":[rand_0],\"20\":[rand_1],\"30\":[rand_2],\"40\":[rand_3],\"50\":[rand_4],\"60\":[rand_5],\"70\":[rand_6]})\n",
    "rand = pd.DataFrame(rand).T.reset_index()\n",
    "rand.columns = [\"Temps (jours)\",\"Score ARI\"]\n",
    "rand"
   ]
  },
  {
   "cell_type": "code",
   "execution_count": 66,
   "id": "a05e05f1",
   "metadata": {},
   "outputs": [
    {
     "data": {
      "text/plain": [
       "[Text(0.5, 1.0, 'Score ARI  en fonction du délai de prédiction')]"
      ]
     },
     "execution_count": 66,
     "metadata": {},
     "output_type": "execute_result"
    },
    {
     "data": {
      "image/png": "[encoded data removed]",
      "text/plain": [
       "<Figure size 720x504 with 1 Axes>"
      ]
     },
     "metadata": {},
     "output_type": "display_data"
    }
   ],
   "source": [
    "plt.figure(figsize=(10,7))\n",
    "\n",
    "sns.set(font_scale = 1.2)\n",
    "sns.set_style(\"whitegrid\") \n",
    "sns.lineplot(x=\"Temps (jours)\",y=\"Score ARI\",data=rand,markers=True).set(title=\"Score ARI  en fonction du délai de prédiction\")"
   ]
  },
  {
   "cell_type": "markdown",
   "id": "63e3e6ba",
   "metadata": {},
   "source": [
    "D'après les résultats du score ARI, il est conseillé de faire une maintenance du clustering tous les 40 jours environs. "
   ]
  }
 ],
 "metadata": {
  "kernelspec": {
   "display_name": "Python 3 (ipykernel)",
   "language": "python",
   "name": "python3"
  },
  "language_info": {
   "codemirror_mode": {
    "name": "ipython",
    "version": 3
   },
   "file_extension": ".py",
   "mimetype": "text/x-python",
   "name": "python",
   "nbconvert_exporter": "python",
   "pygments_lexer": "ipython3",
   "version": "3.9.7"
  }
 },
 "nbformat": 4,
 "nbformat_minor": 5
}
